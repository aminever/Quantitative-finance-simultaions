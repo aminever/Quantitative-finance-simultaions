{
  "nbformat": 4,
  "nbformat_minor": 0,
  "metadata": {
    "colab": {
      "name": "portfolio management.ipynb",
      "provenance": [],
      "collapsed_sections": []
    },
    "kernelspec": {
      "name": "python3",
      "display_name": "Python 3"
    },
    "language_info": {
      "name": "python"
    }
  },
  "cells": [
    {
      "cell_type": "code",
      "source": [
        ""
      ],
      "metadata": {
        "id": "JYbO3o9JufMI"
      },
      "execution_count": null,
      "outputs": []
    },
    {
      "cell_type": "markdown",
      "source": [
        "# 1. Importation de la dataset \n",
        "On va utiliser les données pour quelques actions les plus actives sur le marché américain ( Pfizer, Apple, Tesla, Nvidia, Uber ...), quelques commodités ( Gold, Silver ...), quelques cryptomonnaies (Bitcoin, Etherum, Binance coin) et quelques Indices ETF (Technologie, Finance, Santé, Energie, Telecom, Utilités ...) "
      ],
      "metadata": {
        "id": "ZXYUKexAl9ui"
      }
    },
    {
      "cell_type": "code",
      "execution_count": null,
      "metadata": {
        "id": "upjKpJlnuEOP"
      },
      "outputs": [],
      "source": [
        "!pip install yfinance\n",
        "!pip install yahoofinancials"
      ]
    },
    {
      "cell_type": "code",
      "source": [
        "import pandas as pd\n",
        "import yfinance as yf\n",
        "import numpy as np\n",
        "import matplotlib.pyplot as plt\n",
        "import seaborn as sns\n",
        "plt.style.use('ggplot')"
      ],
      "metadata": {
        "id": "gxitGi3j-6aE"
      },
      "execution_count": null,
      "outputs": []
    },
    {
      "cell_type": "code",
      "source": [
        "commodities=['GC=F','SI=F','PL=F','HG=F'] #Gold, Silver, Platinuim, Copper\n",
        "stocks=['AAPL','TSLA','NVDA','AMD','MSFT','PFE','UBER'] #Apple, Tesla, Nvidia, AMD, Microsoft, Pfizer, UBER\n",
        "crypto=['BTC-USD','ETH-USD','BNB-USD'] #Bitcoin, Etherum, Binance\n",
        "ETF = ['XLK','XLF','XLV','XLY','XLI']\n",
        "all=commodities+stocks+crypto+ETF\n",
        "data=pd.DataFrame(columns=all)"
      ],
      "metadata": {
        "id": "Yb4nRRc_4EDQ"
      },
      "execution_count": null,
      "outputs": []
    },
    {
      "cell_type": "code",
      "source": [
        "data_series=[]\n",
        "for i in all:\n",
        "  data_series.append(yf.download(i,start='2000-01-01',end='2021-12-10',progress=False)['Close'])"
      ],
      "metadata": {
        "id": "GaGycxnX-5Tz"
      },
      "execution_count": null,
      "outputs": []
    },
    {
      "cell_type": "code",
      "source": [
        "data=pd.concat(data_series, axis=1)\n",
        "data.columns=all\n",
        "data.dropna(inplace=True)"
      ],
      "metadata": {
        "id": "vgqRe8NE_xoA"
      },
      "execution_count": null,
      "outputs": []
    },
    {
      "cell_type": "code",
      "source": [
        "data.head()"
      ],
      "metadata": {
        "colab": {
          "base_uri": "https://localhost:8080/",
          "height": 344
        },
        "id": "-uZfbVfGLSvn",
        "outputId": "4742d8bf-caf0-42f0-ec5d-29fe96866492"
      },
      "execution_count": null,
      "outputs": [
        {
          "output_type": "execute_result",
          "data": {
            "text/html": [
              "<div>\n",
              "<style scoped>\n",
              "    .dataframe tbody tr th:only-of-type {\n",
              "        vertical-align: middle;\n",
              "    }\n",
              "\n",
              "    .dataframe tbody tr th {\n",
              "        vertical-align: top;\n",
              "    }\n",
              "\n",
              "    .dataframe thead th {\n",
              "        text-align: right;\n",
              "    }\n",
              "</style>\n",
              "<table border=\"1\" class=\"dataframe\">\n",
              "  <thead>\n",
              "    <tr style=\"text-align: right;\">\n",
              "      <th></th>\n",
              "      <th>GC=F</th>\n",
              "      <th>SI=F</th>\n",
              "      <th>PL=F</th>\n",
              "      <th>HG=F</th>\n",
              "      <th>AAPL</th>\n",
              "      <th>TSLA</th>\n",
              "      <th>NVDA</th>\n",
              "      <th>AMD</th>\n",
              "      <th>MSFT</th>\n",
              "      <th>PFE</th>\n",
              "      <th>UBER</th>\n",
              "      <th>BTC-USD</th>\n",
              "      <th>ETH-USD</th>\n",
              "      <th>BNB-USD</th>\n",
              "      <th>XLK</th>\n",
              "      <th>XLF</th>\n",
              "      <th>XLV</th>\n",
              "      <th>XLY</th>\n",
              "      <th>XLI</th>\n",
              "    </tr>\n",
              "    <tr>\n",
              "      <th>Date</th>\n",
              "      <th></th>\n",
              "      <th></th>\n",
              "      <th></th>\n",
              "      <th></th>\n",
              "      <th></th>\n",
              "      <th></th>\n",
              "      <th></th>\n",
              "      <th></th>\n",
              "      <th></th>\n",
              "      <th></th>\n",
              "      <th></th>\n",
              "      <th></th>\n",
              "      <th></th>\n",
              "      <th></th>\n",
              "      <th></th>\n",
              "      <th></th>\n",
              "      <th></th>\n",
              "      <th></th>\n",
              "      <th></th>\n",
              "    </tr>\n",
              "  </thead>\n",
              "  <tbody>\n",
              "    <tr>\n",
              "      <th>2019-05-10</th>\n",
              "      <td>1285.699951</td>\n",
              "      <td>14.726</td>\n",
              "      <td>862.400024</td>\n",
              "      <td>2.7850</td>\n",
              "      <td>197.179993</td>\n",
              "      <td>239.520004</td>\n",
              "      <td>168.820007</td>\n",
              "      <td>27.959999</td>\n",
              "      <td>127.129997</td>\n",
              "      <td>40.720001</td>\n",
              "      <td>41.570000</td>\n",
              "      <td>6378.849121</td>\n",
              "      <td>173.142746</td>\n",
              "      <td>19.598108</td>\n",
              "      <td>76.180000</td>\n",
              "      <td>27.480000</td>\n",
              "      <td>88.910004</td>\n",
              "      <td>117.290001</td>\n",
              "      <td>76.269997</td>\n",
              "    </tr>\n",
              "    <tr>\n",
              "      <th>2019-05-13</th>\n",
              "      <td>1300.099976</td>\n",
              "      <td>14.713</td>\n",
              "      <td>852.299988</td>\n",
              "      <td>2.7295</td>\n",
              "      <td>185.720001</td>\n",
              "      <td>227.009995</td>\n",
              "      <td>158.449997</td>\n",
              "      <td>26.240000</td>\n",
              "      <td>123.349998</td>\n",
              "      <td>40.570000</td>\n",
              "      <td>37.099998</td>\n",
              "      <td>7814.915039</td>\n",
              "      <td>196.846283</td>\n",
              "      <td>23.811028</td>\n",
              "      <td>73.309998</td>\n",
              "      <td>26.680000</td>\n",
              "      <td>87.239998</td>\n",
              "      <td>113.800003</td>\n",
              "      <td>74.099998</td>\n",
              "    </tr>\n",
              "    <tr>\n",
              "      <th>2019-05-14</th>\n",
              "      <td>1294.699951</td>\n",
              "      <td>14.752</td>\n",
              "      <td>856.500000</td>\n",
              "      <td>2.7345</td>\n",
              "      <td>188.660004</td>\n",
              "      <td>232.309998</td>\n",
              "      <td>162.039993</td>\n",
              "      <td>27.320000</td>\n",
              "      <td>124.730003</td>\n",
              "      <td>40.660000</td>\n",
              "      <td>39.959999</td>\n",
              "      <td>7994.416016</td>\n",
              "      <td>217.148575</td>\n",
              "      <td>23.626419</td>\n",
              "      <td>74.489998</td>\n",
              "      <td>26.889999</td>\n",
              "      <td>87.680000</td>\n",
              "      <td>114.949997</td>\n",
              "      <td>74.870003</td>\n",
              "    </tr>\n",
              "    <tr>\n",
              "      <th>2019-05-15</th>\n",
              "      <td>1296.300049</td>\n",
              "      <td>14.752</td>\n",
              "      <td>845.000000</td>\n",
              "      <td>2.7535</td>\n",
              "      <td>190.919998</td>\n",
              "      <td>231.949997</td>\n",
              "      <td>159.580002</td>\n",
              "      <td>27.580000</td>\n",
              "      <td>126.019997</td>\n",
              "      <td>41.150002</td>\n",
              "      <td>41.290001</td>\n",
              "      <td>8205.167969</td>\n",
              "      <td>247.153061</td>\n",
              "      <td>26.894939</td>\n",
              "      <td>75.300003</td>\n",
              "      <td>26.790001</td>\n",
              "      <td>87.940002</td>\n",
              "      <td>115.730003</td>\n",
              "      <td>74.970001</td>\n",
              "    </tr>\n",
              "    <tr>\n",
              "      <th>2019-05-16</th>\n",
              "      <td>1285.000000</td>\n",
              "      <td>14.479</td>\n",
              "      <td>830.900024</td>\n",
              "      <td>2.7585</td>\n",
              "      <td>190.080002</td>\n",
              "      <td>228.330002</td>\n",
              "      <td>160.190002</td>\n",
              "      <td>28.010000</td>\n",
              "      <td>128.929993</td>\n",
              "      <td>41.639999</td>\n",
              "      <td>43.000000</td>\n",
              "      <td>7884.909180</td>\n",
              "      <td>264.010010</td>\n",
              "      <td>26.325806</td>\n",
              "      <td>75.989998</td>\n",
              "      <td>27.059999</td>\n",
              "      <td>88.629997</td>\n",
              "      <td>116.800003</td>\n",
              "      <td>75.660004</td>\n",
              "    </tr>\n",
              "  </tbody>\n",
              "</table>\n",
              "</div>"
            ],
            "text/plain": [
              "                   GC=F    SI=F        PL=F  ...        XLV         XLY        XLI\n",
              "Date                                         ...                                  \n",
              "2019-05-10  1285.699951  14.726  862.400024  ...  88.910004  117.290001  76.269997\n",
              "2019-05-13  1300.099976  14.713  852.299988  ...  87.239998  113.800003  74.099998\n",
              "2019-05-14  1294.699951  14.752  856.500000  ...  87.680000  114.949997  74.870003\n",
              "2019-05-15  1296.300049  14.752  845.000000  ...  87.940002  115.730003  74.970001\n",
              "2019-05-16  1285.000000  14.479  830.900024  ...  88.629997  116.800003  75.660004\n",
              "\n",
              "[5 rows x 19 columns]"
            ]
          },
          "metadata": {},
          "execution_count": 6
        }
      ]
    },
    {
      "cell_type": "markdown",
      "source": [
        "# 2. Calcul des rendements"
      ],
      "metadata": {
        "id": "FSB6KwqXnefV"
      }
    },
    {
      "cell_type": "code",
      "source": [
        "Returns=data.pct_change()\n",
        "Returns.dropna(inplace=True)"
      ],
      "metadata": {
        "id": "Am2EGFigLTPG"
      },
      "execution_count": null,
      "outputs": []
    },
    {
      "cell_type": "code",
      "source": [
        "Returns.head()"
      ],
      "metadata": {
        "colab": {
          "base_uri": "https://localhost:8080/",
          "height": 344
        },
        "id": "CQLlV2TClFbg",
        "outputId": "52d63cf0-e1b0-4513-ccf5-d9a72cd1f3fa"
      },
      "execution_count": null,
      "outputs": [
        {
          "output_type": "execute_result",
          "data": {
            "text/html": [
              "<div>\n",
              "<style scoped>\n",
              "    .dataframe tbody tr th:only-of-type {\n",
              "        vertical-align: middle;\n",
              "    }\n",
              "\n",
              "    .dataframe tbody tr th {\n",
              "        vertical-align: top;\n",
              "    }\n",
              "\n",
              "    .dataframe thead th {\n",
              "        text-align: right;\n",
              "    }\n",
              "</style>\n",
              "<table border=\"1\" class=\"dataframe\">\n",
              "  <thead>\n",
              "    <tr style=\"text-align: right;\">\n",
              "      <th></th>\n",
              "      <th>GC=F</th>\n",
              "      <th>SI=F</th>\n",
              "      <th>PL=F</th>\n",
              "      <th>HG=F</th>\n",
              "      <th>AAPL</th>\n",
              "      <th>TSLA</th>\n",
              "      <th>NVDA</th>\n",
              "      <th>AMD</th>\n",
              "      <th>MSFT</th>\n",
              "      <th>PFE</th>\n",
              "      <th>UBER</th>\n",
              "      <th>BTC-USD</th>\n",
              "      <th>ETH-USD</th>\n",
              "      <th>BNB-USD</th>\n",
              "      <th>XLK</th>\n",
              "      <th>XLF</th>\n",
              "      <th>XLV</th>\n",
              "      <th>XLY</th>\n",
              "      <th>XLI</th>\n",
              "    </tr>\n",
              "    <tr>\n",
              "      <th>Date</th>\n",
              "      <th></th>\n",
              "      <th></th>\n",
              "      <th></th>\n",
              "      <th></th>\n",
              "      <th></th>\n",
              "      <th></th>\n",
              "      <th></th>\n",
              "      <th></th>\n",
              "      <th></th>\n",
              "      <th></th>\n",
              "      <th></th>\n",
              "      <th></th>\n",
              "      <th></th>\n",
              "      <th></th>\n",
              "      <th></th>\n",
              "      <th></th>\n",
              "      <th></th>\n",
              "      <th></th>\n",
              "      <th></th>\n",
              "    </tr>\n",
              "  </thead>\n",
              "  <tbody>\n",
              "    <tr>\n",
              "      <th>2019-05-13</th>\n",
              "      <td>0.011200</td>\n",
              "      <td>-0.000883</td>\n",
              "      <td>-0.011712</td>\n",
              "      <td>-0.019928</td>\n",
              "      <td>-0.058119</td>\n",
              "      <td>-0.052229</td>\n",
              "      <td>-0.061426</td>\n",
              "      <td>-0.061516</td>\n",
              "      <td>-0.029733</td>\n",
              "      <td>-0.003684</td>\n",
              "      <td>-0.107529</td>\n",
              "      <td>0.225129</td>\n",
              "      <td>0.136902</td>\n",
              "      <td>0.214966</td>\n",
              "      <td>-0.037674</td>\n",
              "      <td>-0.029112</td>\n",
              "      <td>-0.018783</td>\n",
              "      <td>-0.029755</td>\n",
              "      <td>-0.028452</td>\n",
              "    </tr>\n",
              "    <tr>\n",
              "      <th>2019-05-14</th>\n",
              "      <td>-0.004154</td>\n",
              "      <td>0.002651</td>\n",
              "      <td>0.004928</td>\n",
              "      <td>0.001832</td>\n",
              "      <td>0.015830</td>\n",
              "      <td>0.023347</td>\n",
              "      <td>0.022657</td>\n",
              "      <td>0.041159</td>\n",
              "      <td>0.011188</td>\n",
              "      <td>0.002218</td>\n",
              "      <td>0.077089</td>\n",
              "      <td>0.022969</td>\n",
              "      <td>0.103138</td>\n",
              "      <td>-0.007753</td>\n",
              "      <td>0.016096</td>\n",
              "      <td>0.007871</td>\n",
              "      <td>0.005044</td>\n",
              "      <td>0.010105</td>\n",
              "      <td>0.010391</td>\n",
              "    </tr>\n",
              "    <tr>\n",
              "      <th>2019-05-15</th>\n",
              "      <td>0.001236</td>\n",
              "      <td>0.000000</td>\n",
              "      <td>-0.013427</td>\n",
              "      <td>0.006948</td>\n",
              "      <td>0.011979</td>\n",
              "      <td>-0.001550</td>\n",
              "      <td>-0.015181</td>\n",
              "      <td>0.009517</td>\n",
              "      <td>0.010342</td>\n",
              "      <td>0.012051</td>\n",
              "      <td>0.033283</td>\n",
              "      <td>0.026362</td>\n",
              "      <td>0.138175</td>\n",
              "      <td>0.138342</td>\n",
              "      <td>0.010874</td>\n",
              "      <td>-0.003719</td>\n",
              "      <td>0.002965</td>\n",
              "      <td>0.006786</td>\n",
              "      <td>0.001336</td>\n",
              "    </tr>\n",
              "    <tr>\n",
              "      <th>2019-05-16</th>\n",
              "      <td>-0.008717</td>\n",
              "      <td>-0.018506</td>\n",
              "      <td>-0.016686</td>\n",
              "      <td>0.001816</td>\n",
              "      <td>-0.004400</td>\n",
              "      <td>-0.015607</td>\n",
              "      <td>0.003823</td>\n",
              "      <td>0.015591</td>\n",
              "      <td>0.023092</td>\n",
              "      <td>0.011908</td>\n",
              "      <td>0.041414</td>\n",
              "      <td>-0.039031</td>\n",
              "      <td>0.068204</td>\n",
              "      <td>-0.021161</td>\n",
              "      <td>0.009163</td>\n",
              "      <td>0.010078</td>\n",
              "      <td>0.007846</td>\n",
              "      <td>0.009246</td>\n",
              "      <td>0.009204</td>\n",
              "    </tr>\n",
              "    <tr>\n",
              "      <th>2019-05-17</th>\n",
              "      <td>-0.008171</td>\n",
              "      <td>-0.009048</td>\n",
              "      <td>-0.015044</td>\n",
              "      <td>-0.003806</td>\n",
              "      <td>-0.005682</td>\n",
              "      <td>-0.075768</td>\n",
              "      <td>-0.022848</td>\n",
              "      <td>-0.018208</td>\n",
              "      <td>-0.006670</td>\n",
              "      <td>-0.004083</td>\n",
              "      <td>-0.025349</td>\n",
              "      <td>-0.068614</td>\n",
              "      <td>-0.076684</td>\n",
              "      <td>-0.024434</td>\n",
              "      <td>-0.008027</td>\n",
              "      <td>-0.006652</td>\n",
              "      <td>-0.002144</td>\n",
              "      <td>-0.007620</td>\n",
              "      <td>-0.011102</td>\n",
              "    </tr>\n",
              "  </tbody>\n",
              "</table>\n",
              "</div>"
            ],
            "text/plain": [
              "                GC=F      SI=F      PL=F  ...       XLV       XLY       XLI\n",
              "Date                                      ...                              \n",
              "2019-05-13  0.011200 -0.000883 -0.011712  ... -0.018783 -0.029755 -0.028452\n",
              "2019-05-14 -0.004154  0.002651  0.004928  ...  0.005044  0.010105  0.010391\n",
              "2019-05-15  0.001236  0.000000 -0.013427  ...  0.002965  0.006786  0.001336\n",
              "2019-05-16 -0.008717 -0.018506 -0.016686  ...  0.007846  0.009246  0.009204\n",
              "2019-05-17 -0.008171 -0.009048 -0.015044  ... -0.002144 -0.007620 -0.011102\n",
              "\n",
              "[5 rows x 19 columns]"
            ]
          },
          "metadata": {},
          "execution_count": 8
        }
      ]
    },
    {
      "cell_type": "markdown",
      "source": [
        "**Rendement Espéré**"
      ],
      "metadata": {
        "id": "R4D00MRrolfq"
      }
    },
    {
      "cell_type": "code",
      "source": [
        "ExpectedReturns=Returns.mean()"
      ],
      "metadata": {
        "id": "nANUKX21oa24"
      },
      "execution_count": null,
      "outputs": []
    },
    {
      "cell_type": "code",
      "source": [
        "ExpectedReturns"
      ],
      "metadata": {
        "colab": {
          "base_uri": "https://localhost:8080/"
        },
        "id": "aybhufamog_s",
        "outputId": "9af5cb53-5220-4d01-959a-8f28239d57c2"
      },
      "execution_count": null,
      "outputs": [
        {
          "output_type": "execute_result",
          "data": {
            "text/plain": [
              "GC=F       0.000567\n",
              "SI=F       0.000898\n",
              "PL=F       0.000366\n",
              "HG=F       0.000797\n",
              "AAPL       0.001073\n",
              "TSLA       0.004401\n",
              "NVDA       0.002389\n",
              "AMD        0.003033\n",
              "MSFT       0.001712\n",
              "PFE        0.000551\n",
              "UBER       0.000533\n",
              "BTC-USD    0.004376\n",
              "ETH-USD    0.006970\n",
              "BNB-USD    0.007761\n",
              "XLK        0.001441\n",
              "XLF        0.000749\n",
              "XLV        0.000736\n",
              "XLY        0.000987\n",
              "XLI        0.000652\n",
              "dtype: float64"
            ]
          },
          "metadata": {},
          "execution_count": 10
        }
      ]
    },
    {
      "cell_type": "markdown",
      "source": [
        "# 3. Calcul de la Variance"
      ],
      "metadata": {
        "id": "LIZtzBU7nhNT"
      }
    },
    {
      "cell_type": "code",
      "source": [
        "Variance=Returns.var()"
      ],
      "metadata": {
        "id": "7I4odd_MlKoB"
      },
      "execution_count": null,
      "outputs": []
    },
    {
      "cell_type": "code",
      "source": [
        "Variance"
      ],
      "metadata": {
        "colab": {
          "base_uri": "https://localhost:8080/"
        },
        "id": "8e-B-F31laF6",
        "outputId": "ffe76b9d-7aee-46bd-b41a-b108a33c2b01"
      },
      "execution_count": null,
      "outputs": [
        {
          "output_type": "execute_result",
          "data": {
            "text/plain": [
              "GC=F       0.000121\n",
              "SI=F       0.000537\n",
              "PL=F       0.000469\n",
              "HG=F       0.000207\n",
              "AAPL       0.001381\n",
              "TSLA       0.002907\n",
              "NVDA       0.001826\n",
              "AMD        0.001054\n",
              "MSFT       0.000397\n",
              "PFE        0.000331\n",
              "UBER       0.001425\n",
              "BTC-USD    0.002379\n",
              "ETH-USD    0.003900\n",
              "BNB-USD    0.005094\n",
              "XLK        0.000333\n",
              "XLF        0.000396\n",
              "XLV        0.000181\n",
              "XLY        0.000240\n",
              "XLI        0.000300\n",
              "dtype: float64"
            ]
          },
          "metadata": {},
          "execution_count": 12
        }
      ]
    },
    {
      "cell_type": "markdown",
      "source": [
        "# 4. Calcul de la correlation et la covariance "
      ],
      "metadata": {
        "id": "UbK4EAQ_nkgL"
      }
    },
    {
      "cell_type": "code",
      "source": [
        "Correlation= Returns.corr()"
      ],
      "metadata": {
        "id": "zMLflYUSla76"
      },
      "execution_count": null,
      "outputs": []
    },
    {
      "cell_type": "code",
      "source": [
        "Correlation.head()"
      ],
      "metadata": {
        "colab": {
          "base_uri": "https://localhost:8080/",
          "height": 226
        },
        "id": "pWlpc2ocl5yi",
        "outputId": "adce624d-f98e-4dc6-b686-40fd20badab7"
      },
      "execution_count": null,
      "outputs": [
        {
          "output_type": "execute_result",
          "data": {
            "text/html": [
              "<div>\n",
              "<style scoped>\n",
              "    .dataframe tbody tr th:only-of-type {\n",
              "        vertical-align: middle;\n",
              "    }\n",
              "\n",
              "    .dataframe tbody tr th {\n",
              "        vertical-align: top;\n",
              "    }\n",
              "\n",
              "    .dataframe thead th {\n",
              "        text-align: right;\n",
              "    }\n",
              "</style>\n",
              "<table border=\"1\" class=\"dataframe\">\n",
              "  <thead>\n",
              "    <tr style=\"text-align: right;\">\n",
              "      <th></th>\n",
              "      <th>GC=F</th>\n",
              "      <th>SI=F</th>\n",
              "      <th>PL=F</th>\n",
              "      <th>HG=F</th>\n",
              "      <th>AAPL</th>\n",
              "      <th>TSLA</th>\n",
              "      <th>NVDA</th>\n",
              "      <th>AMD</th>\n",
              "      <th>MSFT</th>\n",
              "      <th>PFE</th>\n",
              "      <th>UBER</th>\n",
              "      <th>BTC-USD</th>\n",
              "      <th>ETH-USD</th>\n",
              "      <th>BNB-USD</th>\n",
              "      <th>XLK</th>\n",
              "      <th>XLF</th>\n",
              "      <th>XLV</th>\n",
              "      <th>XLY</th>\n",
              "      <th>XLI</th>\n",
              "    </tr>\n",
              "  </thead>\n",
              "  <tbody>\n",
              "    <tr>\n",
              "      <th>GC=F</th>\n",
              "      <td>1.000000</td>\n",
              "      <td>0.759732</td>\n",
              "      <td>0.524825</td>\n",
              "      <td>0.120814</td>\n",
              "      <td>0.022499</td>\n",
              "      <td>0.076994</td>\n",
              "      <td>0.092283</td>\n",
              "      <td>0.139527</td>\n",
              "      <td>0.078358</td>\n",
              "      <td>0.033355</td>\n",
              "      <td>0.091930</td>\n",
              "      <td>0.160294</td>\n",
              "      <td>0.130412</td>\n",
              "      <td>0.117038</td>\n",
              "      <td>0.111540</td>\n",
              "      <td>0.001978</td>\n",
              "      <td>0.078040</td>\n",
              "      <td>0.121661</td>\n",
              "      <td>0.061496</td>\n",
              "    </tr>\n",
              "    <tr>\n",
              "      <th>SI=F</th>\n",
              "      <td>0.759732</td>\n",
              "      <td>1.000000</td>\n",
              "      <td>0.646016</td>\n",
              "      <td>0.227822</td>\n",
              "      <td>0.044989</td>\n",
              "      <td>0.146605</td>\n",
              "      <td>0.148805</td>\n",
              "      <td>0.161592</td>\n",
              "      <td>0.131846</td>\n",
              "      <td>0.031939</td>\n",
              "      <td>0.186084</td>\n",
              "      <td>0.204597</td>\n",
              "      <td>0.191999</td>\n",
              "      <td>0.171738</td>\n",
              "      <td>0.174514</td>\n",
              "      <td>0.115620</td>\n",
              "      <td>0.122300</td>\n",
              "      <td>0.223010</td>\n",
              "      <td>0.171622</td>\n",
              "    </tr>\n",
              "    <tr>\n",
              "      <th>PL=F</th>\n",
              "      <td>0.524825</td>\n",
              "      <td>0.646016</td>\n",
              "      <td>1.000000</td>\n",
              "      <td>0.393059</td>\n",
              "      <td>0.092751</td>\n",
              "      <td>0.181225</td>\n",
              "      <td>0.190478</td>\n",
              "      <td>0.233920</td>\n",
              "      <td>0.212569</td>\n",
              "      <td>0.095297</td>\n",
              "      <td>0.273091</td>\n",
              "      <td>0.218801</td>\n",
              "      <td>0.181409</td>\n",
              "      <td>0.198777</td>\n",
              "      <td>0.291084</td>\n",
              "      <td>0.333973</td>\n",
              "      <td>0.288928</td>\n",
              "      <td>0.386036</td>\n",
              "      <td>0.378886</td>\n",
              "    </tr>\n",
              "    <tr>\n",
              "      <th>HG=F</th>\n",
              "      <td>0.120814</td>\n",
              "      <td>0.227822</td>\n",
              "      <td>0.393059</td>\n",
              "      <td>1.000000</td>\n",
              "      <td>0.122682</td>\n",
              "      <td>0.190557</td>\n",
              "      <td>0.169386</td>\n",
              "      <td>0.162547</td>\n",
              "      <td>0.197140</td>\n",
              "      <td>0.042375</td>\n",
              "      <td>0.219780</td>\n",
              "      <td>0.135364</td>\n",
              "      <td>0.133848</td>\n",
              "      <td>0.178271</td>\n",
              "      <td>0.268755</td>\n",
              "      <td>0.326952</td>\n",
              "      <td>0.225685</td>\n",
              "      <td>0.328584</td>\n",
              "      <td>0.353926</td>\n",
              "    </tr>\n",
              "    <tr>\n",
              "      <th>AAPL</th>\n",
              "      <td>0.022499</td>\n",
              "      <td>0.044989</td>\n",
              "      <td>0.092751</td>\n",
              "      <td>0.122682</td>\n",
              "      <td>1.000000</td>\n",
              "      <td>0.687911</td>\n",
              "      <td>0.261546</td>\n",
              "      <td>0.310687</td>\n",
              "      <td>0.450943</td>\n",
              "      <td>0.312956</td>\n",
              "      <td>0.170984</td>\n",
              "      <td>0.115009</td>\n",
              "      <td>0.125378</td>\n",
              "      <td>0.135885</td>\n",
              "      <td>0.531334</td>\n",
              "      <td>0.332448</td>\n",
              "      <td>0.396124</td>\n",
              "      <td>0.435727</td>\n",
              "      <td>0.360358</td>\n",
              "    </tr>\n",
              "  </tbody>\n",
              "</table>\n",
              "</div>"
            ],
            "text/plain": [
              "          GC=F      SI=F      PL=F  ...       XLV       XLY       XLI\n",
              "GC=F  1.000000  0.759732  0.524825  ...  0.078040  0.121661  0.061496\n",
              "SI=F  0.759732  1.000000  0.646016  ...  0.122300  0.223010  0.171622\n",
              "PL=F  0.524825  0.646016  1.000000  ...  0.288928  0.386036  0.378886\n",
              "HG=F  0.120814  0.227822  0.393059  ...  0.225685  0.328584  0.353926\n",
              "AAPL  0.022499  0.044989  0.092751  ...  0.396124  0.435727  0.360358\n",
              "\n",
              "[5 rows x 19 columns]"
            ]
          },
          "metadata": {},
          "execution_count": 14
        }
      ]
    },
    {
      "cell_type": "code",
      "source": [
        "Covariance = Returns.cov()"
      ],
      "metadata": {
        "id": "_iNBQsujl6ZV"
      },
      "execution_count": null,
      "outputs": []
    },
    {
      "cell_type": "code",
      "source": [
        "Covariance.head()"
      ],
      "metadata": {
        "colab": {
          "base_uri": "https://localhost:8080/",
          "height": 313
        },
        "id": "95OMXgsLsXri",
        "outputId": "b58872f0-4cdc-4c1b-fefb-da694522dd51"
      },
      "execution_count": null,
      "outputs": [
        {
          "output_type": "execute_result",
          "data": {
            "text/html": [
              "<div>\n",
              "<style scoped>\n",
              "    .dataframe tbody tr th:only-of-type {\n",
              "        vertical-align: middle;\n",
              "    }\n",
              "\n",
              "    .dataframe tbody tr th {\n",
              "        vertical-align: top;\n",
              "    }\n",
              "\n",
              "    .dataframe thead th {\n",
              "        text-align: right;\n",
              "    }\n",
              "</style>\n",
              "<table border=\"1\" class=\"dataframe\">\n",
              "  <thead>\n",
              "    <tr style=\"text-align: right;\">\n",
              "      <th></th>\n",
              "      <th>GC=F</th>\n",
              "      <th>SI=F</th>\n",
              "      <th>PL=F</th>\n",
              "      <th>HG=F</th>\n",
              "      <th>AAPL</th>\n",
              "      <th>TSLA</th>\n",
              "      <th>NVDA</th>\n",
              "      <th>AMD</th>\n",
              "      <th>MSFT</th>\n",
              "      <th>PFE</th>\n",
              "      <th>UBER</th>\n",
              "      <th>BTC-USD</th>\n",
              "      <th>ETH-USD</th>\n",
              "      <th>BNB-USD</th>\n",
              "      <th>XLK</th>\n",
              "      <th>XLF</th>\n",
              "      <th>XLV</th>\n",
              "      <th>XLY</th>\n",
              "      <th>XLI</th>\n",
              "    </tr>\n",
              "  </thead>\n",
              "  <tbody>\n",
              "    <tr>\n",
              "      <th>GC=F</th>\n",
              "      <td>0.000121</td>\n",
              "      <td>0.000194</td>\n",
              "      <td>0.000125</td>\n",
              "      <td>0.000019</td>\n",
              "      <td>0.000009</td>\n",
              "      <td>0.000046</td>\n",
              "      <td>0.000043</td>\n",
              "      <td>0.000050</td>\n",
              "      <td>0.000017</td>\n",
              "      <td>0.000007</td>\n",
              "      <td>0.000038</td>\n",
              "      <td>0.000086</td>\n",
              "      <td>0.000090</td>\n",
              "      <td>0.000092</td>\n",
              "      <td>0.000022</td>\n",
              "      <td>4.329401e-07</td>\n",
              "      <td>0.000012</td>\n",
              "      <td>0.000021</td>\n",
              "      <td>0.000012</td>\n",
              "    </tr>\n",
              "    <tr>\n",
              "      <th>SI=F</th>\n",
              "      <td>0.000194</td>\n",
              "      <td>0.000537</td>\n",
              "      <td>0.000324</td>\n",
              "      <td>0.000076</td>\n",
              "      <td>0.000039</td>\n",
              "      <td>0.000183</td>\n",
              "      <td>0.000147</td>\n",
              "      <td>0.000122</td>\n",
              "      <td>0.000061</td>\n",
              "      <td>0.000013</td>\n",
              "      <td>0.000163</td>\n",
              "      <td>0.000231</td>\n",
              "      <td>0.000278</td>\n",
              "      <td>0.000284</td>\n",
              "      <td>0.000074</td>\n",
              "      <td>5.332299e-05</td>\n",
              "      <td>0.000038</td>\n",
              "      <td>0.000080</td>\n",
              "      <td>0.000069</td>\n",
              "    </tr>\n",
              "    <tr>\n",
              "      <th>PL=F</th>\n",
              "      <td>0.000125</td>\n",
              "      <td>0.000324</td>\n",
              "      <td>0.000469</td>\n",
              "      <td>0.000122</td>\n",
              "      <td>0.000075</td>\n",
              "      <td>0.000212</td>\n",
              "      <td>0.000176</td>\n",
              "      <td>0.000164</td>\n",
              "      <td>0.000092</td>\n",
              "      <td>0.000038</td>\n",
              "      <td>0.000223</td>\n",
              "      <td>0.000231</td>\n",
              "      <td>0.000245</td>\n",
              "      <td>0.000307</td>\n",
              "      <td>0.000115</td>\n",
              "      <td>1.439041e-04</td>\n",
              "      <td>0.000084</td>\n",
              "      <td>0.000129</td>\n",
              "      <td>0.000142</td>\n",
              "    </tr>\n",
              "    <tr>\n",
              "      <th>HG=F</th>\n",
              "      <td>0.000019</td>\n",
              "      <td>0.000076</td>\n",
              "      <td>0.000122</td>\n",
              "      <td>0.000207</td>\n",
              "      <td>0.000066</td>\n",
              "      <td>0.000148</td>\n",
              "      <td>0.000104</td>\n",
              "      <td>0.000076</td>\n",
              "      <td>0.000057</td>\n",
              "      <td>0.000011</td>\n",
              "      <td>0.000119</td>\n",
              "      <td>0.000095</td>\n",
              "      <td>0.000120</td>\n",
              "      <td>0.000183</td>\n",
              "      <td>0.000071</td>\n",
              "      <td>9.357825e-05</td>\n",
              "      <td>0.000044</td>\n",
              "      <td>0.000073</td>\n",
              "      <td>0.000088</td>\n",
              "    </tr>\n",
              "    <tr>\n",
              "      <th>AAPL</th>\n",
              "      <td>0.000009</td>\n",
              "      <td>0.000039</td>\n",
              "      <td>0.000075</td>\n",
              "      <td>0.000066</td>\n",
              "      <td>0.001381</td>\n",
              "      <td>0.001378</td>\n",
              "      <td>0.000415</td>\n",
              "      <td>0.000375</td>\n",
              "      <td>0.000334</td>\n",
              "      <td>0.000212</td>\n",
              "      <td>0.000240</td>\n",
              "      <td>0.000208</td>\n",
              "      <td>0.000291</td>\n",
              "      <td>0.000360</td>\n",
              "      <td>0.000360</td>\n",
              "      <td>2.458199e-04</td>\n",
              "      <td>0.000198</td>\n",
              "      <td>0.000251</td>\n",
              "      <td>0.000232</td>\n",
              "    </tr>\n",
              "  </tbody>\n",
              "</table>\n",
              "</div>"
            ],
            "text/plain": [
              "          GC=F      SI=F      PL=F  ...       XLV       XLY       XLI\n",
              "GC=F  0.000121  0.000194  0.000125  ...  0.000012  0.000021  0.000012\n",
              "SI=F  0.000194  0.000537  0.000324  ...  0.000038  0.000080  0.000069\n",
              "PL=F  0.000125  0.000324  0.000469  ...  0.000084  0.000129  0.000142\n",
              "HG=F  0.000019  0.000076  0.000122  ...  0.000044  0.000073  0.000088\n",
              "AAPL  0.000009  0.000039  0.000075  ...  0.000198  0.000251  0.000232\n",
              "\n",
              "[5 rows x 19 columns]"
            ]
          },
          "metadata": {},
          "execution_count": 16
        }
      ]
    },
    {
      "cell_type": "markdown",
      "source": [
        "# Recherche des portefeuilles optimales "
      ],
      "metadata": {
        "id": "AwHpdc1b0EY9"
      }
    },
    {
      "cell_type": "code",
      "source": [
        "from scipy.optimize import minimize, Bounds, LinearConstraint"
      ],
      "metadata": {
        "id": "1uTnIlBksZV7"
      },
      "execution_count": null,
      "outputs": []
    },
    {
      "cell_type": "code",
      "source": [
        "# La fonction va chercher les coefficients qui maximize le rendement en minimisant le risque\n",
        "\n",
        "def optimize(function, W, ExpectedReturns, Covariance, objectif):\n",
        "    #opt_bounds = Bounds(0, 1)\n",
        "    opt_bounds = tuple((0,1) for x in range(len(all))) \n",
        "    opt_constraints = ({'type': 'eq','fun': lambda W: 1.0 - np.sum(W)},\n",
        "                       {'type': 'eq','fun': lambda W: objectif - np.dot(W.T,ExpectedReturns)})\n",
        "    optimal_weights = minimize(function, W,args=(ExpectedReturns, Covariance),method='SLSQP',bounds=opt_bounds,constraints=opt_constraints)\n",
        "    return optimal_weights['x']"
      ],
      "metadata": {
        "id": "ZaIuWbcSsl6T"
      },
      "execution_count": null,
      "outputs": []
    },
    {
      "cell_type": "code",
      "source": [
        "# La fonction qu'on va minimiser : la volatilité du portefeuille\n",
        "def ret_risk(W, ExpectedReturns, Covariance):\n",
        "    return np.sqrt(np.dot(W.T, np.dot(Covariance, W)))"
      ],
      "metadata": {
        "id": "2IBse9_HujQW"
      },
      "execution_count": null,
      "outputs": []
    },
    {
      "cell_type": "code",
      "source": [
        "objectifs=np.linspace(-0.001,0.005,1000)\n",
        "returns_solver=[]\n",
        "risk_solver=[]\n",
        "weights_solver=[]\n",
        "for i in objectifs:\n",
        "  W = np.random.dirichlet(np.ones(len(all)),size=2)\n",
        "  W = W[0]\n",
        "  x = optimize(ret_risk, W, ExpectedReturns, Covariance,objectif=i)\n",
        "  portfolioReturn=np.dot(x.T, ExpectedReturns)\n",
        "  portfolioRisk= np.sqrt(np.dot(x.T, np.dot(Covariance, x)))\n",
        "  returns_solver.append(portfolioReturn)\n",
        "  risk_solver.append(portfolioRisk)\n",
        "  weights_solver.append(x)"
      ],
      "metadata": {
        "id": "a4tVKjf8uvxF"
      },
      "execution_count": null,
      "outputs": []
    },
    {
      "cell_type": "markdown",
      "source": [
        "## <font color='red'> La Frontière optimale </font>"
      ],
      "metadata": {
        "id": "cLzdidbN1UXQ"
      }
    },
    {
      "cell_type": "code",
      "source": [
        "plt.figure(figsize=(18,8))\n",
        "plt.plot(risk_solver,returns_solver)\n",
        "plt.xlabel('Volatilité', fontsize=16)\n",
        "plt.ylabel('Rendement', fontsize=16)"
      ],
      "metadata": {
        "colab": {
          "base_uri": "https://localhost:8080/",
          "height": 519
        },
        "id": "hNST-GoEwfuR",
        "outputId": "f4846634-2cbf-44e7-e078-ce662157ac1a"
      },
      "execution_count": null,
      "outputs": [
        {
          "output_type": "execute_result",
          "data": {
            "text/plain": [
              "Text(0, 0.5, 'Rendement')"
            ]
          },
          "metadata": {},
          "execution_count": 40
        },
        {
          "output_type": "display_data",
          "data": {
            "image/png": "[encoded data removed]",
            "text/plain": [
              "<Figure size 1296x576 with 1 Axes>"
            ]
          },
          "metadata": {}
        }
      ]
    },
    {
      "cell_type": "markdown",
      "source": [
        "# Détermination de la frontière avec une simulation des portefeuilles possible"
      ],
      "metadata": {
        "id": "66AyCU77qkYe"
      }
    },
    {
      "cell_type": "markdown",
      "source": [
        "Avec un grand nombre de coefficients du portfolio, qu'on détermine aléatoirement, on peut converger vers la frontière efficiente et confirmer la forme qu'on a trouvé"
      ],
      "metadata": {
        "id": "1MvyCuqUq7Sh"
      }
    },
    {
      "cell_type": "code",
      "source": [
        "# On va construire 200000 portfolio avec des coefficients aléatoires\n",
        "num_assets = len(all)\n",
        "num_portfolios = 200000\n",
        "p_ret=[]\n",
        "p_vol=[]\n",
        "p_weights=[]\n",
        "for portfolio in range(num_portfolios):\n",
        "    weights = np.random.dirichlet(np.ones(num_assets),size=1)\n",
        "    weights = weights[0]\n",
        "    p_weights.append(weights)\n",
        "    returns = np.dot(weights, ExpectedReturns) \n",
        "    p_ret.append(returns)\n",
        "    vol = np.sqrt(np.dot(weights.T, np.dot(Covariance, weights))) \n",
        "    p_vol.append(vol)"
      ],
      "metadata": {
        "id": "Oba3cGmOEUjf"
      },
      "execution_count": null,
      "outputs": []
    },
    {
      "cell_type": "code",
      "source": [
        "Rand = {'Rendement':p_ret, 'Volatilité':p_vol}\n",
        "portfolios  = pd.DataFrame(Rand)\n",
        "portfolios.plot.scatter(x='Volatilité', y='Rendement', marker='o', s=10, alpha=0.3, grid=True,figsize=(18,10))\n",
        "plt.plot(risk_solver,returns_solver)"
      ],
      "metadata": {
        "colab": {
          "base_uri": "https://localhost:8080/",
          "height": 643
        },
        "id": "G2LrOkIy5MQI",
        "outputId": "b0801a62-e87a-475c-be53-d5d226c29b18"
      },
      "execution_count": null,
      "outputs": [
        {
          "output_type": "execute_result",
          "data": {
            "text/plain": [
              "[<matplotlib.lines.Line2D at 0x7fa6ad6f45d0>]"
            ]
          },
          "metadata": {},
          "execution_count": 39
        },
        {
          "output_type": "display_data",
          "data": {
            "text/plain": [
              "<Figure size 1296x720 with 0 Axes>"
            ]
          },
          "metadata": {}
        },
        {
          "output_type": "display_data",
          "data": {
            "image/png": "[encoded data removed]",
            "text/plain": [
              "<Figure size 1296x720 with 1 Axes>"
            ]
          },
          "metadata": {}
        }
      ]
    },
    {
      "cell_type": "markdown",
      "source": [
        "# <font color='red'> On peut constater bien que la frontière trouvé avec le programme de minimisation est confirmé par la simulation d'un grand nombre de portefeuilles ( les points en bleu ) </font>"
      ],
      "metadata": {
        "id": "4QXl6yoMrZjH"
      }
    }
  ]
}